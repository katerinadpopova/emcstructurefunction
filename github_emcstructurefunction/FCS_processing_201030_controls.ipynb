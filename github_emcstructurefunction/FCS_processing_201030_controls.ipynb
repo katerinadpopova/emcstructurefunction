{
 "cells": [
  {
   "cell_type": "code",
   "execution_count": 2,
   "metadata": {},
   "outputs": [],
   "source": [
    "from FlowCal import io\n",
    "from FlowCal import gate\n",
    "from FlowCal import plot\n",
    "import matplotlib.pyplot as plt\n",
    "%matplotlib inline\n",
    "import numpy as np\n",
    "import pandas as pd\n",
    "from os import listdir\n",
    "import seaborn as sns\n",
    "from scipy.stats.mstats import gmean\n",
    "sns.set(style=\"white\", rc={\"axes.facecolor\": (0, 0, 0, 0)})\n",
    "paper_rc = {'lines.linewidth': 3, 'lines.markersize': 10}     \n",
    "sns.set(context='notebook',style=\"white\",font='Helvetica',font_scale=1.5,rc=paper_rc)\n",
    "import matplotlib\n",
    "matplotlib.rcParams['pdf.fonttype'] = 42\n",
    "matplotlib.rcParams['ps.fonttype'] = 42"
   ]
  },
  {
   "cell_type": "markdown",
   "metadata": {},
   "source": [
    "## make dictionary based on plate maps"
   ]
  },
  {
   "cell_type": "code",
   "execution_count": 55,
   "metadata": {},
   "outputs": [],
   "source": [
    "plates_dict = pd.read_csv('pkdp112_1235wt/mcherry_gfp_ctrl_ko_rescue.csv',sep=',',header=None)\n",
    "plates_dict.columns = ['WELL','MUTATION','PLATE','SUBSTRATE']\n",
    "path = 'pkdp112_1235wt/'\n",
    "files = listdir(path)\n",
    "files_dict = {}\n",
    "####\n",
    "for file in files:\n",
    "    well = file.split('.')[0].split('_')[-3]+file.split('.')[0].split('_')[-1]\n",
    "    files_dict[well]=path+file\n",
    "plates_dict['FILE'] = plates_dict.apply(lambda row: files_dict[row.PLATE+row.WELL],axis=1)"
   ]
  },
  {
   "cell_type": "markdown",
   "metadata": {},
   "source": [
    "## fns"
   ]
  },
  {
   "cell_type": "code",
   "execution_count": 5,
   "metadata": {},
   "outputs": [],
   "source": [
    "def process_fcs(filename,lowcut=0,lowcut_BL1A=0,lowcut_YL2A=0,fraction=0.8,title='title'):\n",
    "    ###gating twice, first on absolute FSC-A greater than, then gating on density plot of 65% density. \n",
    "    ###may also want to use a polygon cutoff for increased consistency instead of a density cutoff.\n",
    "    s = io.FCSData(filename)\n",
    "    s_g1 = gate.high_low(s, channels='FSC-A', low=lowcut)\n",
    "    s_g1 = gate.high_low(s_g1, channels='BL1-A', low=lowcut_BL1A)\n",
    "    s_g1 = gate.high_low(s_g1, channels='YL2-A', low=lowcut_YL2A)\n",
    "    s_g2 = gate.density2d(s_g1,channels=['FSC-A', 'SSC-A'],gate_fraction=fraction)\n",
    "    ###\n",
    "    return(s_g2)\n",
    "\n",
    "def plot_fcs(s_g2,title):\n",
    "    ### quick plot check\n",
    "    plt.figure(figsize=[3,3])\n",
    "    plot.scatter2d(s_g2,channels=['FSC-A', 'SSC-A'],yscale='logicle',xscale='logicle') \n",
    "    plt.title(title)\n",
    "    ###\n",
    "    plt.figure(figsize=[3,3])\n",
    "    plot.scatter2d(s_g2,channels=['BL1-A', 'YL2-A'],yscale='logicle',xscale='logicle') \n",
    "    plt.title(title)\n",
    "\n",
    "def process_onetrack(fcs):\n",
    "    tmp = pd.DataFrame(fcs[:,['BL1-A', 'YL2-A']])\n",
    "    tmp.columns = ['BL1-A', 'YL2-A']\n",
    "    tmp = tmp['YL2-A']/tmp['BL1-A']\n",
    "    return(tmp)\n",
    "   \n",
    "def process_trackorder(mutants):\n",
    "    order = mutants.copy()\n",
    "    order = order.apply(lambda row: process_onetrack(row['FCS']),axis=1)\n",
    "    order = order.stack().reset_index()\n",
    "    order = order.groupby('MUTATION', as_index=True).mean()[0].sort_values().index.tolist()\n",
    "    ## reorder mutants\n",
    "    mutants_ordered = []\n",
    "    for mutation in order:\n",
    "        mutants_ordered.append(mutants.loc[mutation])\n",
    "    mutants_ordered = pd.concat(mutants_ordered)\n",
    "    ## return\n",
    "    return(mutants_ordered)\n",
    "\n",
    "def plot_allbox(dists,substrate,save=None):\n",
    "    ### format\n",
    "    newindex = []\n",
    "    numlist = '121212121212121212121212121212'\n",
    "    for item,num in zip(dists.index.tolist(),numlist):\n",
    "        newindex.append(item+'_'+num)\n",
    "    dists.index = newindex\n",
    "    ###\n",
    "    plt.figure(figsize=(20,20))\n",
    "    bar = dists.stack().reset_index()\n",
    "    sns.boxplot(x=\"level_0\", y=0, data=bar,fliersize=0,whis=0.5)\n",
    "    plt.ylim(0,3.0)\n",
    "    plt.xticks(rotation=90)\n",
    "    plt.title(substrate)\n",
    "    plt.tight_layout()\n",
    "    ###\n",
    "    if save != None:\n",
    "        plt.savefig(save)\n",
    "\n",
    "def plot_allbar(dists,substrate,save=None):\n",
    "    ### format\n",
    "    newindex = []\n",
    "    numlist = '121212121212121212121212121212'\n",
    "    for item,num in zip(dists.index.tolist(),numlist):\n",
    "        newindex.append(item+'_'+num)\n",
    "    dists.index = newindex\n",
    "    ###\n",
    "    plt.figure(figsize=(10,15))\n",
    "    bar = dists.stack().reset_index()\n",
    "    sns.barplot(x=\"level_0\", y=0, data=bar,ci=95)\n",
    "    plt.ylim(0,2.0)\n",
    "    plt.xticks(rotation=90)\n",
    "    plt.title(substrate)\n",
    "    plt.tight_layout()\n",
    "    ###\n",
    "    if save != None:\n",
    "        plt.savefig(save)\n",
    "    \n",
    "def plot_allviolin(dists,substrate):\n",
    "    ### format\n",
    "    newindex = []\n",
    "    numlist = '121212121212121212121212121212'\n",
    "    for item,num in zip(dists.index.tolist(),numlist):\n",
    "        newindex.append(item+'_'+num)\n",
    "    dists.index = newindex\n",
    "    ###\n",
    "    plt.figure(figsize=(20,10))\n",
    "    bar = dists.stack().reset_index()\n",
    "    sns.violinplot(x=\"level_0\", y=0, data=bar,fliersize=0)\n",
    "    plt.ylim(0,3)\n",
    "    plt.xticks(rotation=90)\n",
    "    plt.title(substrate)\n",
    "    \n",
    "def plot_alltrack(dists,xlim=(0.2,2.0)):\n",
    "    ### format\n",
    "    newindex = []\n",
    "    numlist = '121212121212121212121212121212'\n",
    "    for item,num in zip(dists.index.tolist(),numlist):\n",
    "        newindex.append(item+'_'+num)\n",
    "    dists.index = newindex\n",
    "    df = dists.stack().reset_index()\n",
    "    df = df[['level_0',0]]\n",
    "    df.columns = ['MUTATION','x']\n",
    "    ###### plotting\n",
    "    # Initialize the FacetGrid object\n",
    "    pal = sns.cubehelix_palette(10, rot=-.9, light=.7)\n",
    "    g = sns.FacetGrid(df, row=\"MUTATION\", hue=\"MUTATION\", height=0.5,aspect=40,palette=pal)\n",
    "    g.set(xlim=xlim)\n",
    "    # Draw the densities in a few steps\n",
    "    g.map(sns.kdeplot, \"x\",bw=0.2,\n",
    "          alpha=1.0, linewidth=1.5,shade=False)\n",
    "    g.map(sns.kdeplot, \"x\",bw=0.2,\n",
    "          alpha=0.8, linewidth=2.0,shade=True)\n",
    "    g.map(plt.axhline, y=0, lw=2)\n",
    "\n",
    "    # Define and use a simple function to label the plot in axes coordinates\n",
    "    def label(x, color, label):\n",
    "        ax = plt.gca()\n",
    "        ax.text(-0.2, 0, label, fontweight=\"bold\", color=color,\n",
    "                ha=\"left\", va=\"center\", transform=ax.transAxes)\n",
    "    g.map(label, \"x\")\n",
    "\n",
    "    # Set the subplots to overlap\n",
    "    g.fig.subplots_adjust(hspace=-0.9)\n",
    "\n",
    "    # Remove axes details that don't play well with overlap\n",
    "    g.set_titles(\"\")\n",
    "    g.set(yticks=[])\n",
    "    g.despine(bottom=True, left=True)\n",
    "    \n",
    "def bootstrap(dists,samplings=1000,sample_size=50):\n",
    "    from sklearn.utils import resample\n",
    "    from collections import OrderedDict\n",
    "    ###\n",
    "    dists['category'] = dists.index\n",
    "    categories = list(OrderedDict.fromkeys(dists['category']))\n",
    "    means_dists = []\n",
    "    ### \n",
    "    for bucket in categories:\n",
    "        ### slice out and sample each replicate with equal numbers from each rep composing a bootstrap bucket\n",
    "        tmp = dists[dists.category==bucket]\n",
    "        tmp.drop('category',inplace=True,axis=1)\n",
    "        s1 = tmp.iloc[0].dropna()\n",
    "        ### append means here \n",
    "        means = []\n",
    "        for i in range(samplings):\n",
    "            boot1 = resample(s1, replace=True, n_samples=2*sample_size)\n",
    "            means.append(np.mean(boot1))\n",
    "        means_dists.append(means)\n",
    "    #### see bootstrapping results\n",
    "    plt.figure()\n",
    "    for meandist in means_dists:\n",
    "        sns.kdeplot(meandist)\n",
    "    plt.xlim(0.2,2)\n",
    "    #### return\n",
    "    bootstrapped = pd.DataFrame(means_dists,index=categories)\n",
    "    return(bootstrapped)\n",
    "\n",
    "###\n",
    "def plot_bootstrap_box(dists,substrate,save=None):\n",
    "    ###\n",
    "    plt.figure(figsize=(10,15))\n",
    "    bar = dists.stack().reset_index()\n",
    "    sns.boxplot(x=\"level_0\", y=0, data=bar,fliersize=0,whis=0.5)\n",
    "    plt.ylim(0,2.0)\n",
    "    plt.xticks(rotation=90)\n",
    "    plt.title(substrate)\n",
    "    plt.tight_layout()\n",
    "    ###\n",
    "    if save != None:\n",
    "        plt.savefig(save)\n"
   ]
  },
  {
   "cell_type": "markdown",
   "metadata": {},
   "source": [
    "### preprocess"
   ]
  },
  {
   "cell_type": "code",
   "execution_count": 64,
   "metadata": {},
   "outputs": [],
   "source": [
    "lowcut = 3.0*10**5\n",
    "lowcut_BL1A = 2.0*10**2\n",
    "lowcut_YL2A = 2.0*10**2\n",
    "fraction = 0.7\n",
    "### cutoff\n",
    "plates_dict['FCS'] = plates_dict.apply(lambda row: \n",
    "                  process_fcs(row.FILE,\n",
    "                              lowcut=lowcut,\n",
    "                              lowcut_BL1A = lowcut_BL1A,\n",
    "                              lowcut_YL2A=lowcut_YL2A,\n",
    "                              fraction=fraction,\n",
    "                              title=str(list(row)))\n",
    "                  ,axis=1)"
   ]
  },
  {
   "cell_type": "code",
   "execution_count": 60,
   "metadata": {},
   "outputs": [],
   "source": [
    "### define a FCS master function\n",
    "def fcs_master_list_ratios(filenames,low_cut,low_cut_BL1A,low_cut_YL2A,title,labels):\n",
    "    ####\n",
    "    s = [ io.FCSData(filename) for filename in filenames]\n",
    "    ###gating twice, first on absolute FSC-A greater than, then gating on density plot of 65% density. \n",
    "    ###may also want to use a polygon cutoff for increased consistency instead of a density cutoff.\n",
    "    s_g1 = [ gate.high_low(data, channels='FSC-A', low=low_cut) for data in s]\n",
    "    s_g1 = [ gate.high_low(data, channels='BL1-A', low=low_cut_BL1A) for data in s_g1]\n",
    "    s_g1 = [ gate.high_low(data, channels='YL2-A', low=low_cut_YL2A) for data in s_g1]\n",
    "    s_g2 = [ gate.density2d(data,channels=['FSC-A', 'SSC-A'],gate_fraction=0.65) for data in s_g1]\n",
    "    s_g3 = s_g2.copy()\n",
    "    ### plot facs plot\n",
    "    colors = ['#A9A9A9','#00008B','#800000','#d94701','#DFC723']\n",
    "    i=0\n",
    "    plt.figure(figsize=(6,5))\n",
    "    for data in s_g3:\n",
    "        if i == 0:\n",
    "            tmp = pd.DataFrame(data[:,['BL1-A', 'YL2-A']])\n",
    "            tmp.index = [labels[i]]*len(tmp)\n",
    "            tmp.columns = ['BL1-A', 'YL2-A']\n",
    "            tmp = tmp['YL2-A']/tmp['BL1-A']\n",
    "            wt_mean = tmp.mean()\n",
    "            tmp = tmp/wt_mean\n",
    "            sns.kdeplot(tmp,label=labels[i],color=colors[i],cut=3,clip=(0,2.0),shade=False,alpha=1)\n",
    "        else:\n",
    "            tmp = pd.DataFrame(data[:,['BL1-A', 'YL2-A']])\n",
    "            tmp.index = [labels[i]]*len(tmp)\n",
    "            tmp.columns = ['BL1-A', 'YL2-A']\n",
    "            tmp = tmp['YL2-A']/tmp['BL1-A']\n",
    "            tmp = tmp/wt_mean\n",
    "            sns.kdeplot(tmp,label=labels[i],color=colors[i],cut=3,clip=(0,2.0),shade=False,alpha=1)\n",
    "        plt.legend(bbox_to_anchor=(1.05, 1), loc=2, borderaxespad=0.)\n",
    "        plt.xlim(-0.2,2.0)\n",
    "        plt.xticks([0,1,2])\n",
    "        i+=1\n",
    "    ## save\n",
    "    plt.title(title)\n",
    "    plt.tight_layout()\n",
    "    plt.savefig('figures_kde/_'+title+'.controls.svg',dpi=100)\n",
    "    plt.show()\n",
    "    return(s_g3)"
   ]
  },
  {
   "cell_type": "code",
   "execution_count": 61,
   "metadata": {},
   "outputs": [
    {
     "data": {
      "image/png": "[encoded data removed]",
      "text/plain": [
       "<Figure size 432x360 with 1 Axes>"
      ]
     },
     "metadata": {},
     "output_type": "display_data"
    }
   ],
   "source": [
    "lowcut = 3.0*10**5\n",
    "lowcut_BL1A = 2.0*10**2\n",
    "lowcut_YL2A = 2.0*10**2\n",
    "fraction = 0.7\n",
    "############\n",
    "for substrate in set(plates_dict.SUBSTRATE):\n",
    "    tmp = plates_dict[plates_dict.SUBSTRATE==substrate]\n",
    "    filenames = tmp.FILE.tolist()\n",
    "    labels = tmp.MUTATION.tolist()\n",
    "    title = substrate\n",
    "    ###\n",
    "    tmpfig = fcs_master_list_ratios(filenames,lowcut,lowcut_BL1A,lowcut_YL2A,title=title,labels=labels)\n"
   ]
  },
  {
   "cell_type": "code",
   "execution_count": 71,
   "metadata": {},
   "outputs": [
    {
     "name": "stderr",
     "output_type": "stream",
     "text": [
      "/Users/johnny/miniconda3/lib/python3.8/site-packages/pandas/core/frame.py:4163: SettingWithCopyWarning: \n",
      "A value is trying to be set on a copy of a slice from a DataFrame\n",
      "\n",
      "See the caveats in the documentation: https://pandas.pydata.org/pandas-docs/stable/user_guide/indexing.html#returning-a-view-versus-a-copy\n",
      "  return super().drop(\n"
     ]
    },
    {
     "data": {
      "image/png": "[encoded data removed]",
      "text/plain": [
       "<Figure size 432x288 with 1 Axes>"
      ]
     },
     "metadata": {},
     "output_type": "display_data"
    },
    {
     "data": {
      "image/png": "[encoded data removed]",
      "text/plain": [
       "<Figure size 720x1080 with 1 Axes>"
      ]
     },
     "metadata": {},
     "output_type": "display_data"
    }
   ],
   "source": [
    "import scipy.stats as scistats\n",
    "substrates = plates_dict['SUBSTRATE'].unique().tolist()\n",
    "substrates.sort()\n",
    "stats = []\n",
    "###\n",
    "for substrate in substrates:\n",
    "    ### get a df for each substrate\n",
    "    tmp = plates_dict[plates_dict.SUBSTRATE==substrate]\n",
    "    ### fish out the WT and KO\n",
    "    WT = tmp[tmp['MUTATION']=='WT']\n",
    "    ### get just the mutants\n",
    "    tmp = tmp[tmp['MUTATION']!='WT']\n",
    "    ### formatting\n",
    "    tmp.index = tmp.MUTATION\n",
    "    WT.index = WT.MUTATION\n",
    "    ### compile ratios\n",
    "    tmp = tmp.apply(lambda row: process_onetrack(row['FCS']),axis=1)\n",
    "    WT = WT.apply(lambda row: process_onetrack(row.FCS),axis=1)\n",
    "    ### normalize all\n",
    "    tmp = tmp/WT.stack().mean()\n",
    "    WT = WT/WT.stack().mean()\n",
    "    ### restack\n",
    "    dists = pd.concat([tmp,WT])\n",
    "    ### plotter\n",
    "    means = bootstrap(dists)\n",
    "    plot_bootstrap_box(means,substrate=substrate)\n",
    "    ## plot_allbar(dists,substrate,save='figures/201017_EMC3_'+str(substrate)+'.pdf')\n",
    "    ## plot_alltrack(dists)\n",
    "    ##### do stats; one sided low\n",
    "    pvals = []\n",
    "    for item in means.index:\n",
    "        ### create normal distributions from the data\n",
    "        normal_wt = np.random.normal(np.mean(means.loc['WT']),np.std(means.loc['WT'],ddof=1),10000)\n",
    "        wt_lo = np.percentile(a=normal_wt,q=1.0)\n",
    "        wt_hi = np.percentile(a=normal_wt,q=99.0)\n",
    "#         wt_lo = np.percentile(a=means.loc['WT'],q=1.0)\n",
    "#         wt_hi = np.percentile(a=means.loc['WT'],q=99.0)\n",
    "        ### note the standard deviation from wt was used as well\n",
    "        normal_item = np.random.normal(np.mean(means.loc[item]),np.std(means.loc['WT'],ddof=1),10000)\n",
    "        overlap = normal_item[normal_item < wt_hi]\n",
    "        overlap = len(overlap)/len(normal_item)\n",
    "#         overlap = means.loc[item][means.loc[item] > wt_lo]\n",
    "#         overlap = len(overlap)/len(means.loc[item])\n",
    "        pvals.append(overlap)\n",
    "    ### stats\n",
    "    pvals = pd.Series(pvals,index=means.index)\n",
    "    pvals.name = str(substrate)\n",
    "    stats.append(pvals)\n",
    "### concat\n",
    "stats = pd.concat(stats,axis=1,join='inner')\n",
    "stats.to_csv('figures_kde/stats.mcherry.p2a.gfp.controls.hi.csv')"
   ]
  },
  {
   "cell_type": "code",
   "execution_count": 69,
   "metadata": {},
   "outputs": [
    {
     "data": {
      "text/html": [
       "<div>\n",
       "<style scoped>\n",
       "    .dataframe tbody tr th:only-of-type {\n",
       "        vertical-align: middle;\n",
       "    }\n",
       "\n",
       "    .dataframe tbody tr th {\n",
       "        vertical-align: top;\n",
       "    }\n",
       "\n",
       "    .dataframe thead th {\n",
       "        text-align: right;\n",
       "    }\n",
       "</style>\n",
       "<table border=\"1\" class=\"dataframe\">\n",
       "  <thead>\n",
       "    <tr style=\"text-align: right;\">\n",
       "      <th></th>\n",
       "      <th>mCherry-P2A-GFP</th>\n",
       "    </tr>\n",
       "  </thead>\n",
       "  <tbody>\n",
       "    <tr>\n",
       "      <th>EMC1 KO</th>\n",
       "      <td>0.9831</td>\n",
       "    </tr>\n",
       "    <tr>\n",
       "      <th>EMC2 KO</th>\n",
       "      <td>0.9835</td>\n",
       "    </tr>\n",
       "    <tr>\n",
       "      <th>EMC3 KO</th>\n",
       "      <td>0.9483</td>\n",
       "    </tr>\n",
       "    <tr>\n",
       "      <th>EMC5 KO</th>\n",
       "      <td>0.9274</td>\n",
       "    </tr>\n",
       "    <tr>\n",
       "      <th>WT</th>\n",
       "      <td>0.9919</td>\n",
       "    </tr>\n",
       "  </tbody>\n",
       "</table>\n",
       "</div>"
      ],
      "text/plain": [
       "         mCherry-P2A-GFP\n",
       "EMC1 KO           0.9831\n",
       "EMC2 KO           0.9835\n",
       "EMC3 KO           0.9483\n",
       "EMC5 KO           0.9274\n",
       "WT                0.9919"
      ]
     },
     "execution_count": 69,
     "metadata": {},
     "output_type": "execute_result"
    }
   ],
   "source": [
    "stats\n"
   ]
  },
  {
   "cell_type": "code",
   "execution_count": null,
   "metadata": {},
   "outputs": [],
   "source": [
    "stats.to_csv('figures_kde/stats.controls.csv')"
   ]
  },
  {
   "cell_type": "code",
   "execution_count": 72,
   "metadata": {},
   "outputs": [
    {
     "data": {
      "text/plain": [
       "1.3036707023612362"
      ]
     },
     "execution_count": 72,
     "metadata": {},
     "output_type": "execute_result"
    }
   ],
   "source": [
    "wt_hi"
   ]
  },
  {
   "cell_type": "code",
   "execution_count": null,
   "metadata": {},
   "outputs": [],
   "source": []
  },
  {
   "cell_type": "code",
   "execution_count": null,
   "metadata": {},
   "outputs": [],
   "source": [
    "samplings=1000\n",
    "sample_size=250\n",
    "###\n",
    "from sklearn.utils import resample\n",
    "from collections import OrderedDict\n",
    "###\n",
    "dists['category'] = dists.index\n",
    "categories = list(OrderedDict.fromkeys(dists['category']))\n",
    "means_dists = []\n",
    "### \n",
    "for bucket in categories:\n",
    "    ### slice out and sample each replicate with equal numbers from each rep composing a bootstrap bucket\n",
    "    tmp = dists[dists.category==bucket]\n",
    "    tmp.drop('category',inplace=True,axis=1)\n",
    "    s1 = tmp.iloc[0].dropna()\n",
    "    ### append means here \n",
    "    means = []\n",
    "    for i in range(samplings):\n",
    "        boot1 = resample(s1, replace=False, n_samples=sample_size)"
   ]
  },
  {
   "cell_type": "code",
   "execution_count": null,
   "metadata": {},
   "outputs": [],
   "source": [
    "boot1.mean()"
   ]
  },
  {
   "cell_type": "code",
   "execution_count": null,
   "metadata": {},
   "outputs": [],
   "source": [
    "WT = WT.apply(lambda row: process_onetrack(row.FCS),axis=1)\n",
    "\n"
   ]
  },
  {
   "cell_type": "code",
   "execution_count": null,
   "metadata": {},
   "outputs": [],
   "source": []
  },
  {
   "cell_type": "code",
   "execution_count": null,
   "metadata": {},
   "outputs": [],
   "source": []
  },
  {
   "cell_type": "code",
   "execution_count": null,
   "metadata": {},
   "outputs": [],
   "source": []
  },
  {
   "cell_type": "markdown",
   "metadata": {},
   "source": [
    "## preprocess data using cutoffs"
   ]
  },
  {
   "cell_type": "code",
   "execution_count": null,
   "metadata": {},
   "outputs": [],
   "source": [
    "lowcut = 3.0*10**5\n",
    "lowcut_BL1A = 2.0*10**2\n",
    "lowcut_YL2A = 2.0*10**2\n",
    "fraction = 0.7\n",
    "### cutoff\n",
    "plates_dict['FCS'] = plates_dict.apply(lambda row: \n",
    "                  process_fcs(row.FILE,\n",
    "                              lowcut=lowcut,\n",
    "                              lowcut_BL1A = lowcut_BL1A,\n",
    "                              lowcut_YL2A=lowcut_YL2A,\n",
    "                              fraction=fraction,\n",
    "                              title=str(list(row)))\n",
    "                  ,axis=1)"
   ]
  },
  {
   "cell_type": "markdown",
   "metadata": {},
   "source": [
    "## Group by substrate and do track plots"
   ]
  },
  {
   "cell_type": "markdown",
   "metadata": {},
   "source": [
    "## biorep 1"
   ]
  },
  {
   "cell_type": "code",
   "execution_count": null,
   "metadata": {},
   "outputs": [],
   "source": [
    "import scipy.stats as scistats\n",
    "substrates = plates_dict['SUBSTRATE'].unique().tolist()\n",
    "substrates.sort()\n",
    "stats = []\n",
    "###\n",
    "for substrate in substrates:\n",
    "    ### get a df for each substrate\n",
    "    tmp = plates_dict[plates_dict.SUBSTRATE==substrate]\n",
    "    tmp = tmp[tmp['MUTATION']!='delete']\n",
    "    ### fish out the WT and KO\n",
    "    WT = tmp[tmp['MUTATION']=='WT']\n",
    "    WT = WT[WT['PURO']==True]\n",
    "    WT = WT[WT['BIOREP1']==True]\n",
    "    KO = tmp[tmp['MUTATION']=='KO']\n",
    "    KO = KO[KO['PURO']==False]\n",
    "    ### get just the mutants\n",
    "    tmp = tmp[tmp['MUTATION']!='WT']\n",
    "    tmp = tmp[tmp['MUTATION']!='KO']\n",
    "    ### formatting\n",
    "    tmp.index = tmp.MUTATION\n",
    "    WT.index = WT.MUTATION\n",
    "    KO.index = KO.MUTATION\n",
    "    ### order\n",
    "    tmp = process_trackorder(tmp)\n",
    "    ### compile ratios\n",
    "    tmp = tmp.apply(lambda row: process_onetrack(row['FCS']),axis=1)\n",
    "    WT = WT.apply(lambda row: process_onetrack(row.FCS),axis=1)\n",
    "    KO = KO.apply(lambda row: process_onetrack(row.FCS),axis=1)\n",
    "    ### normalize all\n",
    "    tmp = tmp/WT.stack().mean()\n",
    "    KO = KO/WT.stack().mean()\n",
    "    WT = WT/WT.stack().mean()\n",
    "    ### restack\n",
    "    dists = pd.concat([KO,tmp,WT])\n",
    "    ### plotter\n",
    "    means = bootstrap(dists)\n",
    "    plot_bootstrap_box(means,substrate=substrate,save='figures/201017_EMC3_'+str(substrate)+'.pdf')\n",
    "    ## plot_allbar(dists,substrate,save='figures/201017_EMC3_'+str(substrate)+'.pdf')\n",
    "    ## plot_alltrack(dists)\n",
    "    ##### do stats; one sided low\n",
    "    pvals = []\n",
    "    for item in means.index:\n",
    "        wt_lo = np.percentile(a=means.loc['WT'],q=5.0)\n",
    "        wt_hi = np.percentile(a=means.loc['WT'],q=95.0)\n",
    "        ###\n",
    "        overlap = means.loc[item][means.loc[item] > wt_lo]\n",
    "        overlap = len(overlap)/len(means.loc[item])\n",
    "        pvals.append(overlap)\n",
    "    ### stats\n",
    "    pvals = pd.Series(pvals,index=means.index)\n",
    "    pvals.name = str(substrate)\n",
    "    stats.append(pvals)\n",
    "### concat\n",
    "stats = pd.concat(stats,axis=1,join='inner')\n",
    "stats.to_csv('figures/201017_EMC3.stats.lo.csv')"
   ]
  },
  {
   "cell_type": "code",
   "execution_count": null,
   "metadata": {},
   "outputs": [],
   "source": [
    "import scipy.stats as scistats\n",
    "substrates = plates_dict['SUBSTRATE'].unique().tolist()\n",
    "substrates.sort()\n",
    "stats = []\n",
    "###\n",
    "for substrate in substrates:\n",
    "    ### get a df for each substrate\n",
    "    tmp = plates_dict[plates_dict.SUBSTRATE==substrate]\n",
    "    tmp = tmp[tmp['MUTATION']!='delete']\n",
    "    ### fish out the WT and KO\n",
    "    WT = tmp[tmp['MUTATION']=='WT']\n",
    "    WT = WT[WT['PURO']==True]\n",
    "    WT = WT[WT['BIOREP1']==True]\n",
    "    KO = tmp[tmp['MUTATION']=='KO']\n",
    "    KO = KO[KO['PURO']==False]\n",
    "    ### get just the mutants\n",
    "    tmp = tmp[tmp['MUTATION']!='WT']\n",
    "    tmp = tmp[tmp['MUTATION']!='KO']\n",
    "    ### formatting\n",
    "    tmp.index = tmp.MUTATION\n",
    "    WT.index = WT.MUTATION\n",
    "    KO.index = KO.MUTATION\n",
    "    ### order\n",
    "    tmp = process_trackorder(tmp)\n",
    "    ### compile ratios\n",
    "    tmp = tmp.apply(lambda row: process_onetrack(row['FCS']),axis=1)\n",
    "    WT = WT.apply(lambda row: process_onetrack(row.FCS),axis=1)\n",
    "    KO = KO.apply(lambda row: process_onetrack(row.FCS),axis=1)\n",
    "    ### normalize all\n",
    "    tmp = tmp/WT.stack().mean()\n",
    "    KO = KO/WT.stack().mean()\n",
    "    WT = WT/WT.stack().mean()\n",
    "    ### restack\n",
    "    dists = pd.concat([KO,tmp,WT])\n",
    "    ### plotter\n",
    "    means = bootstrap(dists)\n",
    "    plot_bootstrap_box(means,substrate=substrate,save='figures/201017_EMC3_'+str(substrate)+'.pdf')\n",
    "    ## plot_allbar(dists,substrate,save='figures/201017_EMC3_'+str(substrate)+'.pdf')\n",
    "    ## plot_alltrack(dists)\n",
    "    ##### do stats; one sided low\n",
    "    pvals = []\n",
    "    for item in means.index:\n",
    "        wt_lo = np.percentile(a=means.loc['WT'],q=5.0)\n",
    "        wt_hi = np.percentile(a=means.loc['WT'],q=95.0)\n",
    "        ###\n",
    "        overlap = means.loc[item][means.loc[item] < wt_hi]\n",
    "        overlap = len(overlap)/len(means.loc[item])\n",
    "        pvals.append(overlap)\n",
    "    ### stats\n",
    "    pvals = pd.Series(pvals,index=means.index)\n",
    "    pvals.name = str(substrate)\n",
    "    stats.append(pvals)\n",
    "### concat\n",
    "stats = pd.concat(stats,axis=1,join='inner')\n",
    "stats.to_csv('figures/201017_EMC3.stats.hi.csv')"
   ]
  },
  {
   "cell_type": "markdown",
   "metadata": {},
   "source": [
    "## Biorep 2"
   ]
  },
  {
   "cell_type": "code",
   "execution_count": null,
   "metadata": {},
   "outputs": [],
   "source": [
    "substrates = plates_dict['SUBSTRATE'].unique().tolist()\n",
    "substrates.sort()\n",
    "###\n",
    "for substrate in substrates:\n",
    "    ### get a df for each substrate\n",
    "    tmp = plates_dict[plates_dict.SUBSTRATE==substrate]\n",
    "    tmp = tmp[tmp['MUTATION']!='delete']\n",
    "    ### fish out the WT and KO\n",
    "    WT = tmp[tmp['MUTATION']=='WT']\n",
    "    WT = WT[WT['PURO']==True]\n",
    "    WT = WT[WT['BIOREP1']==False]\n",
    "    KO = tmp[tmp['MUTATION']=='KO']\n",
    "    KO = KO[KO['PURO']==False]\n",
    "    ### get just the mutants\n",
    "    tmp = tmp[tmp['MUTATION']!='WT']\n",
    "    tmp = tmp[tmp['MUTATION']!='KO']\n",
    "    ### formatting\n",
    "    tmp.index = tmp.MUTATION\n",
    "    WT.index = WT.MUTATION\n",
    "    KO.index = KO.MUTATION\n",
    "    ### order\n",
    "    tmp = process_trackorder(tmp)\n",
    "    ### compile ratios\n",
    "    tmp = tmp.apply(lambda row: process_onetrack(row['FCS']),axis=1)\n",
    "    WT = WT.apply(lambda row: process_onetrack(row.FCS),axis=1)\n",
    "    KO = KO.apply(lambda row: process_onetrack(row.FCS),axis=1)\n",
    "    ### normalize all\n",
    "    tmp = tmp/WT.stack().mean()\n",
    "    KO = KO/WT.stack().mean()\n",
    "    WT = WT/WT.stack().mean()\n",
    "    ### restack\n",
    "    dists = pd.concat([KO,tmp,WT])\n",
    "    ### plotter\n",
    "    plot_allbox(dists,substrate)\n",
    "    ## plot_alltrack(dists)"
   ]
  },
  {
   "cell_type": "markdown",
   "metadata": {},
   "source": [
    "## Let's track plot it"
   ]
  },
  {
   "cell_type": "code",
   "execution_count": null,
   "metadata": {},
   "outputs": [],
   "source": [
    "substrates = plates_dict['SUBSTRATE'].unique().tolist()\n",
    "substrates.sort()\n",
    "###\n",
    "for substrate in substrates:\n",
    "    ### get a df for each substrate\n",
    "    tmp = plates_dict[plates_dict.SUBSTRATE==substrate]\n",
    "    tmp = tmp[tmp['MUTATION']!='delete']\n",
    "    ### fish out the WT and KO\n",
    "    WT = tmp[tmp['MUTATION']=='WT']\n",
    "    WT = WT[WT['PURO']==True]\n",
    "    WT = WT[WT['BIOREP1']==False]\n",
    "    KO = tmp[tmp['MUTATION']=='KO']\n",
    "    KO = KO[KO['PURO']==False]\n",
    "    ### get just the mutants\n",
    "    tmp = tmp[tmp['MUTATION']!='WT']\n",
    "    tmp = tmp[tmp['MUTATION']!='KO']\n",
    "    ### formatting\n",
    "    tmp.index = tmp.MUTATION\n",
    "    WT.index = WT.MUTATION\n",
    "    KO.index = KO.MUTATION\n",
    "    ### order\n",
    "    tmp = process_trackorder(tmp)\n",
    "    ### compile ratios\n",
    "    tmp = tmp.apply(lambda row: process_onetrack(row['FCS']),axis=1)\n",
    "    WT = WT.apply(lambda row: process_onetrack(row.FCS),axis=1)\n",
    "    KO = KO.apply(lambda row: process_onetrack(row.FCS),axis=1)\n",
    "    ### normalize all\n",
    "    tmp = tmp/WT.stack().mean()\n",
    "    KO = KO/WT.stack().mean()\n",
    "    WT = WT/WT.stack().mean()\n",
    "    ### restack\n",
    "    dists = pd.concat([KO,tmp,WT])\n",
    "    ### plotter\n",
    "#     plot_allbox(dists,substrate)\n",
    "    plot_alltrack(dists)"
   ]
  },
  {
   "cell_type": "code",
   "execution_count": null,
   "metadata": {},
   "outputs": [],
   "source": [
    "plot_alltrack(dists,xlim=(-0.2,3.5))"
   ]
  },
  {
   "cell_type": "markdown",
   "metadata": {},
   "source": [
    "## Now i am showing the gating I used"
   ]
  },
  {
   "cell_type": "code",
   "execution_count": 18,
   "metadata": {},
   "outputs": [
    {
     "data": {
      "image/png": "[encoded data removed]",
      "text/plain": [
       "<Figure size 216x216 with 1 Axes>"
      ]
     },
     "metadata": {},
     "output_type": "display_data"
    },
    {
     "data": {
      "image/png": "[encoded data removed]",
      "text/plain": [
       "<Figure size 216x216 with 1 Axes>"
      ]
     },
     "metadata": {},
     "output_type": "display_data"
    }
   ],
   "source": [
    "lowcut = 3.0*10**5\n",
    "lowcut_BL1A = 2.0*10**2\n",
    "lowcut_YL2A = 2.0*10**2\n",
    "fraction = 0.7\n",
    "WELL = 'F5'\n",
    "### cutoff\n",
    "data = process_fcs(plates_dict[plates_dict.WELL==WELL].FILE.tolist()[0],\n",
    "            lowcut=lowcut,\n",
    "            lowcut_BL1A = lowcut_BL1A,\n",
    "            lowcut_YL2A=lowcut_YL2A,fraction=fraction,\n",
    "            title=WELL)\n",
    "### plot\n",
    "plot_fcs(data,title=WELL)"
   ]
  },
  {
   "cell_type": "markdown",
   "metadata": {},
   "source": [
    "## Here is with no gating"
   ]
  },
  {
   "cell_type": "code",
   "execution_count": 11,
   "metadata": {},
   "outputs": [
    {
     "data": {
      "image/png": "[encoded data removed]",
      "text/plain": [
       "<Figure size 216x216 with 1 Axes>"
      ]
     },
     "metadata": {},
     "output_type": "display_data"
    },
    {
     "data": {
      "image/png": "[encoded data removed]",
      "text/plain": [
       "<Figure size 216x216 with 1 Axes>"
      ]
     },
     "metadata": {},
     "output_type": "display_data"
    }
   ],
   "source": [
    "lowcut = 0\n",
    "lowcut_BL1A = 0\n",
    "lowcut_YL2A = 0\n",
    "fraction = 1\n",
    "WELL = 'B10'\n",
    "### cutoff\n",
    "data = process_fcs(plates_dict[plates_dict.WELL==WELL].FILE.tolist()[0],\n",
    "            lowcut=lowcut,\n",
    "            lowcut_BL1A = lowcut_BL1A,\n",
    "            lowcut_YL2A=lowcut_YL2A,fraction=fraction,\n",
    "            title=WELL)\n",
    "### plot\n",
    "plot_fcs(data,title=WELL)"
   ]
  },
  {
   "cell_type": "code",
   "execution_count": null,
   "metadata": {},
   "outputs": [],
   "source": []
  },
  {
   "cell_type": "code",
   "execution_count": null,
   "metadata": {},
   "outputs": [],
   "source": []
  },
  {
   "cell_type": "code",
   "execution_count": null,
   "metadata": {},
   "outputs": [],
   "source": []
  },
  {
   "cell_type": "code",
   "execution_count": null,
   "metadata": {},
   "outputs": [],
   "source": []
  },
  {
   "cell_type": "code",
   "execution_count": null,
   "metadata": {},
   "outputs": [],
   "source": []
  },
  {
   "cell_type": "code",
   "execution_count": null,
   "metadata": {},
   "outputs": [],
   "source": []
  },
  {
   "cell_type": "code",
   "execution_count": null,
   "metadata": {},
   "outputs": [],
   "source": []
  },
  {
   "cell_type": "code",
   "execution_count": null,
   "metadata": {},
   "outputs": [],
   "source": []
  },
  {
   "cell_type": "code",
   "execution_count": null,
   "metadata": {},
   "outputs": [],
   "source": []
  },
  {
   "cell_type": "code",
   "execution_count": null,
   "metadata": {},
   "outputs": [],
   "source": []
  },
  {
   "cell_type": "code",
   "execution_count": null,
   "metadata": {},
   "outputs": [],
   "source": []
  },
  {
   "cell_type": "code",
   "execution_count": null,
   "metadata": {},
   "outputs": [],
   "source": []
  },
  {
   "cell_type": "code",
   "execution_count": null,
   "metadata": {},
   "outputs": [],
   "source": []
  },
  {
   "cell_type": "code",
   "execution_count": null,
   "metadata": {},
   "outputs": [],
   "source": []
  },
  {
   "cell_type": "code",
   "execution_count": null,
   "metadata": {},
   "outputs": [],
   "source": []
  }
 ],
 "metadata": {
  "kernelspec": {
   "display_name": "Python 3",
   "language": "python",
   "name": "python3"
  },
  "language_info": {
   "codemirror_mode": {
    "name": "ipython",
    "version": 3
   },
   "file_extension": ".py",
   "mimetype": "text/x-python",
   "name": "python",
   "nbconvert_exporter": "python",
   "pygments_lexer": "ipython3",
   "version": "3.8.5"
  }
 },
 "nbformat": 4,
 "nbformat_minor": 4
}
